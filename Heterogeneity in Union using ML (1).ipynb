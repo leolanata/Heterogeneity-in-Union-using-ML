{
 "cells": [
  {
   "cell_type": "markdown",
   "id": "b0df87b5",
   "metadata": {},
   "source": [
    "## Import Libraries"
   ]
  },
  {
   "cell_type": "code",
   "execution_count": null,
   "id": "af56ce56",
   "metadata": {},
   "outputs": [],
   "source": [
    "import numpy as np\n",
    "import pandas as pd\n",
    "import matplotlib.pyplot as plt\n",
    "import seaborn as sns\n",
    "import statsmodels.formula.api as smf\n",
    "import statsmodels.api as sm\n",
    "\n",
    "from sklearn import ensemble\n",
    "from sklearn.model_selection import train_test_split\n",
    "from sklearn.pipeline import Pipeline\n",
    "from sklearn.metrics import r2_score\n",
    "\n",
    "#from nb21 import cumulative_gain, elast\n"
   ]
  },
  {
   "cell_type": "markdown",
   "id": "9700dc75",
   "metadata": {},
   "source": [
    "## Cleaning and Encoding Data"
   ]
  },
  {
   "cell_type": "code",
   "execution_count": null,
   "id": "3ed66ca9",
   "metadata": {},
   "outputs": [],
   "source": [
    "#df1 = pd.read_stata('workingpanel(a).dta')  ## test data"
   ]
  },
  {
   "cell_type": "code",
   "execution_count": null,
   "id": "f3e1538f",
   "metadata": {},
   "outputs": [],
   "source": [
    "##df1['industry'].unique()"
   ]
  },
  {
   "cell_type": "code",
   "execution_count": null,
   "id": "dd2f1ca5",
   "metadata": {},
   "outputs": [],
   "source": [
    "df = pd.read_stata('workingpanel.dta')"
   ]
  },
  {
   "cell_type": "code",
   "execution_count": null,
   "id": "37a4e16b",
   "metadata": {},
   "outputs": [],
   "source": [
    "df"
   ]
  },
  {
   "cell_type": "code",
   "execution_count": null,
   "id": "6e83ef3d",
   "metadata": {},
   "outputs": [],
   "source": [
    "df.columns"
   ]
  },
  {
   "cell_type": "code",
   "execution_count": null,
   "id": "e3d4f4d2",
   "metadata": {},
   "outputs": [],
   "source": [
    "#df.union.replace(('Yes', 'No'), (1, 0), inplace=True)"
   ]
  },
  {
   "cell_type": "code",
   "execution_count": null,
   "id": "7e26938e",
   "metadata": {},
   "outputs": [],
   "source": [
    "#df.sex.replace(('Male', 'Female'), (1, 0), inplace=True)"
   ]
  },
  {
   "cell_type": "code",
   "execution_count": null,
   "id": "5d61c5b4",
   "metadata": {},
   "outputs": [],
   "source": [
    "df[\"sex\"] = df[\"sex\"].astype('category')\n",
    "df[\"sex_cat\"] = df[\"sex\"].cat.codes\n",
    "#df.head()"
   ]
  },
  {
   "cell_type": "code",
   "execution_count": null,
   "id": "314753dc",
   "metadata": {},
   "outputs": [],
   "source": [
    "df.mediumskill.replace((np.nan, 1), (0, 1), inplace=True)"
   ]
  },
  {
   "cell_type": "code",
   "execution_count": null,
   "id": "fc0bc3eb",
   "metadata": {},
   "outputs": [],
   "source": [
    "df[\"mediumskill\"] = df[\"mediumskill\"].astype('category')\n",
    "df[\"mediumskill_cat\"] = df[\"mediumskill\"].cat.codes\n",
    "#df.head()"
   ]
  },
  {
   "cell_type": "code",
   "execution_count": null,
   "id": "687b2b13",
   "metadata": {},
   "outputs": [],
   "source": [
    "df[\"healthlim\"] = df[\"healthlim\"].astype('category')\n",
    "df[\"healthlim_cat\"] = df[\"healthlim\"].cat.codes\n",
    "#df.head()"
   ]
  },
  {
   "cell_type": "code",
   "execution_count": null,
   "id": "f0e027c6",
   "metadata": {},
   "outputs": [],
   "source": [
    "df[\"private\"] = df[\"private\"].astype('category')\n",
    "df[\"private_cat\"] = df[\"private\"].cat.codes\n",
    "#df.head()"
   ]
  },
  {
   "cell_type": "code",
   "execution_count": null,
   "id": "c350f472",
   "metadata": {},
   "outputs": [],
   "source": [
    "df[\"size\"] = df[\"size\"].astype('category')\n",
    "df[\"size_cat\"] = df[\"size\"].cat.codes\n",
    "#df.head()"
   ]
  },
  {
   "cell_type": "code",
   "execution_count": null,
   "id": "baa3fa4f",
   "metadata": {},
   "outputs": [],
   "source": [
    "df[\"occup\"] = df[\"occup\"].astype('category')\n",
    "df[\"occup_cat\"] = df[\"occup\"].cat.codes\n",
    "#df.head()"
   ]
  },
  {
   "cell_type": "code",
   "execution_count": null,
   "id": "d397f7cf",
   "metadata": {},
   "outputs": [],
   "source": [
    "df[\"industry\"] = df[\"industry\"].astype('category')\n",
    "df[\"industry_cat\"] = df[\"industry\"].cat.codes\n",
    "df.head()"
   ]
  },
  {
   "cell_type": "code",
   "execution_count": null,
   "id": "6f4eb81c",
   "metadata": {},
   "outputs": [],
   "source": [
    "df.describe()"
   ]
  },
  {
   "cell_type": "code",
   "execution_count": null,
   "id": "fe4aa900",
   "metadata": {},
   "outputs": [],
   "source": [
    "df = df[['cons','Dunion','lhw','expr','myedu','mediumskill_cat','healthlim_cat','sex_cat','private_cat','size_cat','occup_cat','industry_cat']]"
   ]
  },
  {
   "cell_type": "code",
   "execution_count": null,
   "id": "a707f0f7",
   "metadata": {},
   "outputs": [],
   "source": [
    "df.describe()"
   ]
  },
  {
   "cell_type": "markdown",
   "id": "dc6fe949",
   "metadata": {},
   "source": [
    "\n",
    "## Covariates Balance"
   ]
  },
  {
   "cell_type": "code",
   "execution_count": null,
   "id": "26b458b0",
   "metadata": {},
   "outputs": [],
   "source": [
    "from sklearn.manifold import TSNE\n",
    "import plotly.express as px\n",
    "\n",
    "features = df[['expr','myedu','mediumskill_cat','healthlim_cat','sex_cat','private_cat','size_cat','occup_cat','industry_cat']]\n",
    "\n",
    "tsne = TSNE(n_components=2, random_state=0)\n",
    "projections = tsne.fit_transform(features)\n",
    "\n",
    "fig = px.scatter(\n",
    "    projections, x=0, y=1,\n",
    "    color=df.Dunion.replace((0, 1), (\"Control\", \"Treated\"), inplace=False), template = \"simple_white\",labels={'color': 'Dunion'},color_discrete_map={'Treated':'#FFA500','Control':'#1E90FF'}\n",
    "        )\n",
    "\n",
    "fig.update_yaxes(visible=False, showticklabels=False)\n",
    "fig.update_xaxes(visible=False, showticklabels=False)\n",
    "fig.show()\n",
    "\n"
   ]
  },
  {
   "cell_type": "code",
   "execution_count": null,
   "id": "0918d747",
   "metadata": {},
   "outputs": [],
   "source": [
    "## Balance\n",
    "\n",
    "fig, axs = plt.subplots(3, 3, figsize=(18, 10))\n",
    "fig.suptitle('Marginals Distributions for Covariates X',fontsize = 32)\n",
    "sns.set(font_scale=1.8)\n",
    "plt.tight_layout()\n",
    "sns.histplot(df, x='expr', hue=\"Dunion\", stat=\"proportion\",multiple='dodge',common_norm=False, legend =False, ax=axs[0,0]).set(xlabel='Experience', ylabel='Marginals') \n",
    "sns.histplot(df, x='myedu', hue=\"Dunion\", stat=\"proportion\",multiple='dodge',common_norm=False, legend =False, ax=axs[0,1]).set(xlabel='Education', ylabel='Marginals')\n",
    "sns.histplot(df, x='mediumskill_cat', hue=\"Dunion\", stat=\"proportion\",multiple='dodge',common_norm=False, legend =False, ax=axs[0,2]).set(xlabel='Medium Skills', ylabel='Marginals') \n",
    "sns.histplot(df, x='healthlim_cat', hue=\"Dunion\", stat=\"proportion\",multiple='dodge',common_norm=False, legend =False,ax=axs[1,0]).set(xlabel='Health Limitations', ylabel='Marginals')\n",
    "sns.histplot(df, x='sex_cat', hue=\"Dunion\", stat=\"proportion\",multiple='dodge',common_norm=False, legend =False,ax=axs[1,1]).set(xlabel='Gender', ylabel='Marginals')\n",
    "sns.histplot(df, x='private_cat', hue=\"Dunion\", stat=\"proportion\",multiple='dodge',common_norm=False, legend =False, ax=axs[1,2]).set(xlabel='Private Sector Worker', ylabel='Marginals')\n",
    "sns.histplot(df, x='size_cat', hue=\"Dunion\", stat=\"proportion\",multiple='dodge',common_norm=False, legend =False,ax=axs[2,0]).set(xlabel='Firm Size', ylabel='Marginals')\n",
    "sns.histplot(df, x='occup_cat', hue=\"Dunion\", stat=\"proportion\",multiple='dodge',common_norm=False, legend =False,ax=axs[2,1]).set(xlabel='Occupations', ylabel='Marginals')\n",
    "sns.histplot(df, x='industry_cat', hue=\"Dunion\", stat=\"proportion\",multiple='dodge',common_norm=False, legend =False,ax=axs[2,2]).set(xlabel='Industries', ylabel='Marginals')\n",
    "\n",
    "plt.legend(labels=[\"Treated\",\"Control\"], bbox_to_anchor=(1,5))\n",
    "plt.savefig('covariatemargins_v2.pdf')\n"
   ]
  },
  {
   "cell_type": "markdown",
   "id": "15a8591d",
   "metadata": {},
   "source": [
    "## Split test and train data"
   ]
  },
  {
   "cell_type": "code",
   "execution_count": null,
   "id": "00bf8d01",
   "metadata": {},
   "outputs": [],
   "source": [
    "y = \"lhw\"\n",
    "T = \"Dunion\"\n",
    "X = ['expr','myedu','mediumskill_cat','healthlim_cat','sex_cat','private_cat','size_cat','occup_cat','industry_cat'] ##covars that I consider for CATE "
   ]
  },
  {
   "cell_type": "code",
   "execution_count": null,
   "id": "972b7824",
   "metadata": {},
   "outputs": [],
   "source": [
    "X"
   ]
  },
  {
   "cell_type": "code",
   "execution_count": null,
   "id": "d1ea22c9",
   "metadata": {},
   "outputs": [],
   "source": [
    "from sklearn.model_selection import train_test_split\n",
    "\n",
    "np.random.seed(123)\n",
    "train,test = train_test_split(df, test_size=0.3)\n",
    "print(train.shape, test.shape)"
   ]
  },
  {
   "cell_type": "markdown",
   "id": "f99162be",
   "metadata": {},
   "source": [
    "## S-Learner "
   ]
  },
  {
   "cell_type": "code",
   "execution_count": null,
   "id": "ff3dd884",
   "metadata": {},
   "outputs": [],
   "source": [
    "from sklearn.ensemble import GradientBoostingRegressor\n",
    "from sklearn.linear_model import LogisticRegression\n",
    "from sklearn.linear_model import LinearRegression\n",
    "from econml.sklearn_extensions.model_selection import GridSearchCVList\n",
    "from sklearn.linear_model import Lasso, LogisticRegression\n",
    "from sklearn.ensemble import RandomForestRegressor, GradientBoostingRegressor\n",
    "from sklearn.ensemble import RandomForestClassifier, GradientBoostingClassifier\n",
    "from sklearn.base import clone\n",
    "from econml.sklearn_extensions.linear_model import WeightedLasso\n",
    "from sklearn.ensemble import RandomForestClassifier\n",
    "from sklearn.metrics import r2_score\n",
    "from sklearn.metrics import mean_squared_error\n",
    "\n",
    "np.random.seed(123)\n",
    "s_learner = RandomForestRegressor(n_estimators=100,min_samples_leaf=10, random_state=123) ##Gridsearch model\n",
    "s_learner.fit(train[X+[T]], train[y])"
   ]
  },
  {
   "cell_type": "code",
   "execution_count": null,
   "id": "1ba002ee",
   "metadata": {},
   "outputs": [],
   "source": [
    "##Treatment Effect\n",
    "treatment_effect1 = train.query('Dunion==1')['lhw'].mean(axis = 0)\n",
    "treatment_effect0 = train.query('Dunion==0')['lhw'].mean(axis = 0)\n",
    "\n",
    "naive_te = treatment_effect1 - treatment_effect0 ##naive estimator\n"
   ]
  },
  {
   "cell_type": "code",
   "execution_count": null,
   "id": "ad023a18",
   "metadata": {},
   "outputs": [],
   "source": [
    "naive_te"
   ]
  },
  {
   "cell_type": "code",
   "execution_count": null,
   "id": "5ad50ef6",
   "metadata": {},
   "outputs": [],
   "source": [
    "s_learner_cate_train = (s_learner.predict(train[X].assign(**{T: 1})) -\n",
    "                        s_learner.predict(train[X].assign(**{T: 0})))\n",
    "\n",
    "s_learner_cate_test = test.assign(\n",
    "    cate=(s_learner.predict(test[X].assign(**{T: 1})) - # predict under treatment\n",
    "          s_learner.predict(test[X].assign(**{T: 0}))) # predict under control\n",
    ")"
   ]
  },
  {
   "cell_type": "code",
   "execution_count": null,
   "id": "5cdabce3",
   "metadata": {},
   "outputs": [],
   "source": [
    "s_learner_cate_test[['cate']] ##CATE"
   ]
  },
  {
   "cell_type": "code",
   "execution_count": null,
   "id": "ca401489",
   "metadata": {},
   "outputs": [],
   "source": [
    "baseline = s_learner_cate_test[['cate']].mean(axis = 0) #ATE"
   ]
  },
  {
   "cell_type": "code",
   "execution_count": null,
   "id": "0b11696f",
   "metadata": {},
   "outputs": [],
   "source": [
    "baseline[0] ## este es el mejor modelo!"
   ]
  },
  {
   "cell_type": "code",
   "execution_count": null,
   "id": "7c316ca1",
   "metadata": {},
   "outputs": [],
   "source": [
    "s_learner.score(test[X+[T]],test[y])  #R2"
   ]
  },
  {
   "cell_type": "code",
   "execution_count": null,
   "id": "38da6184",
   "metadata": {},
   "outputs": [],
   "source": [
    "mse = mean_squared_error(test[y],s_learner.predict(test[X+[T]])) #we can set any metric av in sklearn"
   ]
  },
  {
   "cell_type": "code",
   "execution_count": null,
   "id": "1c408f7d",
   "metadata": {},
   "outputs": [],
   "source": [
    "print(\"The mean squared error (MSE) on test set: {:.4f}\".format(mse))"
   ]
  },
  {
   "cell_type": "code",
   "execution_count": null,
   "id": "5dfbacf3",
   "metadata": {},
   "outputs": [],
   "source": [
    "rsqua = r2_score(test[y],s_learner.predict(test[X+[T]]))"
   ]
  },
  {
   "cell_type": "code",
   "execution_count": null,
   "id": "51ac1123",
   "metadata": {},
   "outputs": [],
   "source": [
    "rsqua ## R2 just checking... "
   ]
  },
  {
   "cell_type": "code",
   "execution_count": null,
   "id": "6a773440",
   "metadata": {},
   "outputs": [],
   "source": [
    "slearner_cate = s_learner_cate_test[['cate']].values"
   ]
  },
  {
   "cell_type": "code",
   "execution_count": null,
   "id": "9a29694e",
   "metadata": {},
   "outputs": [],
   "source": [
    "import scipy.stats as st ### INTERVALO DE CONFIANZA ATE hay q ver para los de econML\n",
    "st.norm.interval(confidence=0.99, \n",
    "                 loc=np.mean(slearner_cate),\n",
    "                 scale=st.sem(slearner_cate))"
   ]
  },
  {
   "cell_type": "markdown",
   "id": "b5f1feff",
   "metadata": {},
   "source": [
    "## X-Learner"
   ]
  },
  {
   "cell_type": "code",
   "execution_count": null,
   "id": "46326c38",
   "metadata": {},
   "outputs": [],
   "source": [
    "from sklearn.linear_model import LogisticRegression\n",
    "\n",
    "np.random.seed(123)\n",
    "\n",
    "# first stage models (this can be changed!) \n",
    "m0 = RandomForestRegressor(n_estimators=100,min_samples_leaf=10, random_state=123)\n",
    "m1 = RandomForestRegressor(n_estimators=100,min_samples_leaf=10, random_state=123)\n",
    "\n",
    "# propensity score model\n",
    "g = RandomForestClassifier(n_estimators=100, max_depth=6) \n",
    "\n",
    "m0.fit(train.query(f\"{T}==0\")[X], train.query(f\"{T}==0\")[y])\n",
    "m1.fit(train.query(f\"{T}==1\")[X], train.query(f\"{T}==1\")[y])\n",
    "                       \n",
    "g.fit(train[X], train[T]);"
   ]
  },
  {
   "cell_type": "code",
   "execution_count": null,
   "id": "f2a9a52c",
   "metadata": {},
   "outputs": [],
   "source": [
    "d_train = np.where(train[T]==0,\n",
    "                   m1.predict(train[X]) - train[y],\n",
    "                   train[y] - m0.predict(train[X]))\n",
    "\n",
    "# second stage\n",
    "mx0 = RandomForestRegressor(n_estimators=100,min_samples_leaf=10, random_state=123)\n",
    "mx1 = RandomForestRegressor(n_estimators=100,min_samples_leaf=10, random_state=123)\n",
    "\n",
    "mx0.fit(train.query(f\"{T}==0\")[X], d_train[train[T]==0])\n",
    "mx1.fit(train.query(f\"{T}==1\")[X], d_train[train[T]==1]);"
   ]
  },
  {
   "cell_type": "code",
   "execution_count": null,
   "id": "2d65c3c0",
   "metadata": {},
   "outputs": [],
   "source": [
    "def ps_predict(df, t): \n",
    "    return g.predict_proba(df[X])[:, t]\n",
    "    \n",
    "    \n",
    "x_cate_train = (ps_predict(train,0)*mx0.predict(train[X]) +\n",
    "                ps_predict(train,1)*mx1.predict(train[X]))\n",
    "\n",
    "x_cate_test = test.assign(cate=(ps_predict(test,0)*mx0.predict(test[X]) +\n",
    "                                ps_predict(test,1)*mx1.predict(test[X])))"
   ]
  },
  {
   "cell_type": "code",
   "execution_count": null,
   "id": "3471dc97",
   "metadata": {},
   "outputs": [],
   "source": [
    "x_cate_test[['cate']] ##CATE"
   ]
  },
  {
   "cell_type": "code",
   "execution_count": null,
   "id": "82e6e3af",
   "metadata": {},
   "outputs": [],
   "source": [
    "#baseline2 = x_cate_test[['cate']].mean(axis = 0) #ATE"
   ]
  },
  {
   "cell_type": "code",
   "execution_count": null,
   "id": "e69638dd",
   "metadata": {},
   "outputs": [],
   "source": [
    "#baseline2"
   ]
  },
  {
   "cell_type": "code",
   "execution_count": null,
   "id": "783e2933",
   "metadata": {},
   "outputs": [],
   "source": [
    "m0.score(test[X],test[y])  #r2"
   ]
  },
  {
   "cell_type": "markdown",
   "id": "0ef0a554",
   "metadata": {},
   "source": [
    "## T-Learner"
   ]
  },
  {
   "cell_type": "code",
   "execution_count": null,
   "id": "a10cf00b",
   "metadata": {},
   "outputs": [],
   "source": [
    "np.random.seed(123)\n",
    "\n",
    "m0 = RandomForestRegressor(n_estimators=100,min_samples_leaf=10, random_state=123)\n",
    "m1 = RandomForestRegressor(n_estimators=100,min_samples_leaf=10, random_state=123)\n",
    "\n",
    "m0.fit(train.query(f\"{T}==0\")[X], train.query(f\"{T}==0\")[y])\n",
    "m1.fit(train.query(f\"{T}==1\")[X], train.query(f\"{T}==1\")[y])\n",
    "\n",
    "# estimate the CATE\n",
    "t_learner_cate_train = m1.predict(train[X]) - m0.predict(train[X])\n",
    "t_learner_cate_test = test.assign(cate=m1.predict(test[X]) - m0.predict(test[X]))"
   ]
  },
  {
   "cell_type": "code",
   "execution_count": null,
   "id": "95a444b5",
   "metadata": {},
   "outputs": [],
   "source": [
    "t_learner_cate_test[['cate']] ##CATE"
   ]
  },
  {
   "cell_type": "code",
   "execution_count": null,
   "id": "3d8ae217",
   "metadata": {},
   "outputs": [],
   "source": [
    "#baseline3 = t_learner_cate_test[['cate']].mean(axis = 0) #ATE"
   ]
  },
  {
   "cell_type": "code",
   "execution_count": null,
   "id": "dd09e59c",
   "metadata": {},
   "outputs": [],
   "source": [
    "#baseline3"
   ]
  },
  {
   "cell_type": "code",
   "execution_count": null,
   "id": "99b49305",
   "metadata": {},
   "outputs": [],
   "source": [
    "m0.score(test[X],test[y])  #r2"
   ]
  },
  {
   "cell_type": "markdown",
   "id": "a21e4641",
   "metadata": {},
   "source": [
    "### EconML library"
   ]
  },
  {
   "cell_type": "code",
   "execution_count": null,
   "id": "adca6520",
   "metadata": {},
   "outputs": [],
   "source": [
    "from econml.metalearners import TLearner, SLearner, XLearner, DomainAdaptationLearner"
   ]
  },
  {
   "cell_type": "code",
   "execution_count": null,
   "id": "8fb4d3f0",
   "metadata": {},
   "outputs": [],
   "source": [
    "df.head()"
   ]
  },
  {
   "cell_type": "code",
   "execution_count": null,
   "id": "df090b60",
   "metadata": {},
   "outputs": [],
   "source": [
    "np.random.seed(123)\n",
    "train,test = train_test_split(df, test_size=0.3)\n",
    "print(train.shape, test.shape)"
   ]
  },
  {
   "cell_type": "code",
   "execution_count": null,
   "id": "e89b3593",
   "metadata": {},
   "outputs": [],
   "source": [
    "Y = train[\"lhw\"].values\n",
    "T = train[\"Dunion\"].values\n",
    "X = train[['expr','myedu','mediumskill_cat','healthlim_cat','sex_cat','private_cat','size_cat','occup_cat','industry_cat']].values ## ADD MORE VARS\n",
    "X_test = test[['expr','myedu','mediumskill_cat','healthlim_cat','sex_cat','private_cat','size_cat','occup_cat','industry_cat']].values\n",
    "Y_test = test[\"lhw\"].values\n",
    "T_test = test[\"Dunion\"].values"
   ]
  },
  {
   "cell_type": "code",
   "execution_count": null,
   "id": "8d968e04",
   "metadata": {},
   "outputs": [],
   "source": [
    "from econml.sklearn_extensions.model_selection import GridSearchCVList\n",
    "from sklearn.linear_model import Lasso, LogisticRegression\n",
    "from sklearn.ensemble import RandomForestRegressor, GradientBoostingRegressor\n",
    "from sklearn.ensemble import RandomForestClassifier, GradientBoostingClassifier\n",
    "from sklearn.base import clone\n",
    "from econml.sklearn_extensions.linear_model import WeightedLasso\n",
    "\n",
    "##CHOOSING THE BEST HYPERPARAMETERS FOR FIRST STAGE MODELS!\n",
    "\n",
    "def first_stage_reg():  ##grid search example\n",
    "    return GridSearchCVList([Lasso(),\n",
    "                             RandomForestRegressor(n_estimators=100, random_state=123),\n",
    "                             GradientBoostingRegressor()\n",
    "                            ],\n",
    "                             param_grid_list=[{'alpha': [.001, .01, .1, 1, 10]},\n",
    "                                               {'max_depth': [3, None],\n",
    "                                               'min_samples_leaf': [10, 50]},\n",
    "                                              {\"max_depth\": [3, 5, None], \"n_estimators\": [50, 100, 200]}\n",
    "                                             ],\n",
    "                             cv=5,\n",
    "                             scoring='r2')"
   ]
  },
  {
   "cell_type": "code",
   "execution_count": null,
   "id": "c0d301c5",
   "metadata": {},
   "outputs": [],
   "source": [
    "model_y = clone(first_stage_reg().fit(X, Y).best_estimator_)\n",
    "model_y"
   ]
  },
  {
   "cell_type": "code",
   "execution_count": null,
   "id": "cc5a6200",
   "metadata": {},
   "outputs": [],
   "source": [
    "# Instantiate S learner\n",
    "overall_model = model_y\n",
    "S_learner = SLearner(overall_model=overall_model)\n",
    "# Train S_learner\n",
    "S_learner.fit(Y, T, X=X)\n",
    "# Estimate treatment effects on test data\n",
    "S_te = S_learner.effect(X_test) #CATE"
   ]
  },
  {
   "cell_type": "code",
   "execution_count": null,
   "id": "0e0dd8de",
   "metadata": {},
   "outputs": [],
   "source": [
    "ateS = np.mean(S_te)"
   ]
  },
  {
   "cell_type": "code",
   "execution_count": null,
   "id": "018d3ab4",
   "metadata": {},
   "outputs": [],
   "source": [
    "ateS ##checking values... OK!"
   ]
  },
  {
   "cell_type": "code",
   "execution_count": null,
   "id": "6302be21",
   "metadata": {},
   "outputs": [],
   "source": [
    "S_te #treatment effects"
   ]
  },
  {
   "cell_type": "code",
   "execution_count": null,
   "id": "f7b7224e",
   "metadata": {},
   "outputs": [],
   "source": [
    "S_lear = S_learner.fit(Y, T, X=X)"
   ]
  },
  {
   "cell_type": "code",
   "execution_count": null,
   "id": "d7136437",
   "metadata": {},
   "outputs": [],
   "source": [
    "import scipy.stats as st ### INTERVALO DE CONFIANZA \n",
    "st.norm.interval(confidence=0.99, \n",
    "                 loc=np.mean(S_te),\n",
    "                 scale=st.sem(S_te))"
   ]
  },
  {
   "cell_type": "code",
   "execution_count": null,
   "id": "34acdbf1",
   "metadata": {},
   "outputs": [],
   "source": [
    "import shap ##SHAP interpreter; mutted because took so long\n",
    "slear = S_learner.fit(Y, T, X=X)\n",
    "shap_values = slear.shap_values(X[:])\n",
    "\n",
    "\n"
   ]
  },
  {
   "cell_type": "code",
   "execution_count": null,
   "id": "b73618e6",
   "metadata": {},
   "outputs": [],
   "source": [
    "shap_values"
   ]
  },
  {
   "cell_type": "code",
   "execution_count": null,
   "id": "1a424b60",
   "metadata": {},
   "outputs": [],
   "source": [
    "import matplotlib.pyplot as plt\n",
    "shap.plots.beeswarm(shap_values['Y0']['T0_1.0'],show=False)\n",
    "plt.savefig(\"shap_summary_v2.pdf\",dpi=700) #.png,.pdf will also support here\n"
   ]
  },
  {
   "cell_type": "code",
   "execution_count": null,
   "id": "b80ad493",
   "metadata": {},
   "outputs": [],
   "source": [
    "# Instantiate X learner\n",
    "models = model_y\n",
    "propensity_model = RandomForestClassifier(n_estimators=100, max_depth=6)\n",
    "X_learner = XLearner(models=models, propensity_model=propensity_model)\n",
    "# Train X_learner\n",
    "X_learner.fit(Y, T, X=X)\n",
    "# Estimate treatment effects on test data\n",
    "X_te = X_learner.effect(X_test)"
   ]
  },
  {
   "cell_type": "code",
   "execution_count": null,
   "id": "a7776393",
   "metadata": {},
   "outputs": [],
   "source": [
    "X_te\n",
    "ateX = np.mean(X_te)\n",
    "ateX"
   ]
  },
  {
   "cell_type": "code",
   "execution_count": null,
   "id": "0de06b79",
   "metadata": {},
   "outputs": [],
   "source": [
    "st.norm.interval(confidence=0.99, \n",
    "                 loc=np.mean(X_te),\n",
    "                 scale=st.sem(X_te))"
   ]
  },
  {
   "cell_type": "code",
   "execution_count": null,
   "id": "a2817932",
   "metadata": {},
   "outputs": [],
   "source": [
    "# Instantiate T learner\n",
    "models = model_y\n",
    "T_learner = TLearner(models=models)\n",
    "# Train T_learner\n",
    "T_learner.fit(Y, T, X=X)\n",
    "# Estimate treatment effects on test data\n",
    "T_te = T_learner.effect(X_test)"
   ]
  },
  {
   "cell_type": "code",
   "execution_count": null,
   "id": "8833506a",
   "metadata": {},
   "outputs": [],
   "source": [
    "T_te"
   ]
  },
  {
   "cell_type": "code",
   "execution_count": null,
   "id": "2c52033e",
   "metadata": {},
   "outputs": [],
   "source": [
    "ateT = np.mean(T_te)"
   ]
  },
  {
   "cell_type": "code",
   "execution_count": null,
   "id": "beacdd04",
   "metadata": {},
   "outputs": [],
   "source": [
    "ateT"
   ]
  },
  {
   "cell_type": "code",
   "execution_count": null,
   "id": "6b8aa8c6",
   "metadata": {},
   "outputs": [],
   "source": [
    "st.norm.interval(confidence=0.99, \n",
    "                 loc=np.mean(T_te),\n",
    "                 scale=st.sem(T_te))"
   ]
  },
  {
   "cell_type": "code",
   "execution_count": null,
   "id": "c0f30739",
   "metadata": {},
   "outputs": [],
   "source": [
    "from matplotlib.ticker import NullFormatter, FixedLocator\n",
    "plt.figure(figsize=(15,15))\n",
    "\n",
    "#1\n",
    "plt.subplot2grid((5,2), (0,0))\n",
    "plt.axhline(naive_te, color = 'black', linestyle = '--', label = 'Naive Estimator')\n",
    "plt.scatter(X_test[:,0],T_te, label='T-learner',color='#FFA500') \n",
    "plt.scatter(X_test[:,0],X_te, label='X-learner',color='#D6D4D7') \n",
    "plt.scatter(X_test[:,0],S_te, label='S-learner',color='#1E90FF')\n",
    "plt.xlabel('$x_0$')\n",
    "plt.ylabel('CATE')\n",
    "#plt.legend() ##check this here and in the cates one\n",
    "plt.title('Experience')\n",
    "\n",
    "#2\n",
    "plt.subplot2grid((5,2), (0,1))\n",
    "plt.axhline(naive_te, color = 'black', linestyle = '--', label = 'Naive Estimator')\n",
    "plt.scatter(X_test[:,1],T_te, label='T-learner',color='#FFA500') \n",
    "plt.scatter(X_test[:,1],X_te, label='X-learner',color='#D6D4D7') \n",
    "plt.scatter(X_test[:,1],S_te, label='S-learner',color='#1E90FF') \n",
    "plt.xlabel('$x_1$')\n",
    "plt.ylabel('CATE')\n",
    "#plt.legend()\n",
    "plt.title('Education Level')\n",
    "\n",
    "#3\n",
    "plt.subplot2grid((5,2), (1,0))\n",
    "plt.axhline(naive_te, color = 'black', linestyle = '--', label = 'Naive Estimator')\n",
    "plt.scatter(X_test[:,2],T_te, label='T-learner',color='#FFA500') \n",
    "plt.scatter(X_test[:,2],X_te, label='X-learner',color='#D6D4D7') \n",
    "plt.scatter(X_test[:,2],S_te, label='S-learner',color='#1E90FF') \n",
    "plt.xlabel('$x_2$')\n",
    "plt.ylabel('CATE')\n",
    "#plt.legend()\n",
    "plt.title('Medium Skill')\n",
    "\n",
    "#4\n",
    "plt.subplot2grid((5,2), (1,1))\n",
    "plt.axhline(naive_te, color = 'black', linestyle = '--', label = 'Naive Estimator')\n",
    "plt.scatter(X_test[:,3],T_te, label='T-learner',color='#FFA500') \n",
    "plt.scatter(X_test[:,3],X_te, label='X-learner',color='#D6D4D7') \n",
    "plt.scatter(X_test[:,3],S_te, label='S-learner',color='#1E90FF') \n",
    "plt.xlabel('$x_3$')\n",
    "plt.ylabel('CATE')\n",
    "#plt.legend()\n",
    "plt.title('Health Limitations')\n",
    "\n",
    "#5\n",
    "plt.subplot2grid((5,2), (2,0))\n",
    "plt.axhline(naive_te, color = 'black', linestyle = '--', label = 'Naive Estimator')\n",
    "plt.scatter(X_test[:,4],T_te, label='T-learner',color='#FFA500') \n",
    "plt.scatter(X_test[:,4],X_te, label='X-learner',color='#D6D4D7') \n",
    "plt.scatter(X_test[:,4],S_te, label='S-learner',color='#1E90FF') \n",
    "plt.xlabel('$x_4$')\n",
    "plt.ylabel('CATE')\n",
    "#plt.legend()\n",
    "plt.title('Gender')\n",
    "\n",
    "\n",
    "#6\n",
    "plt.subplot2grid((5,2), (2,1))\n",
    "plt.axhline(naive_te, color = 'black', linestyle = '--', label = 'Naive Estimator')\n",
    "plt.scatter(X_test[:,6],T_te, label='T-learner',color='#FFA500') \n",
    "plt.scatter(X_test[:,6],X_te, label='X-learner',color='#D6D4D7') \n",
    "plt.scatter(X_test[:,6],S_te, label='S-learner',color='#1E90FF')\n",
    "plt.xlabel('$x_6$')\n",
    "plt.ylabel('CATE')\n",
    "#plt.legend()\n",
    "plt.title('Firm Size')\n",
    "\n",
    "\n",
    "#7\n",
    "plt.subplot2grid((5,2), (3,0))\n",
    "plt.axhline(naive_te, color = 'black', linestyle = '--', label = 'Naive Estimator')\n",
    "plt.scatter(X_test[:,7],T_te, label='T-learner',color='#FFA500') \n",
    "plt.scatter(X_test[:,7],X_te, label='X-learner',color='#D6D4D7') \n",
    "plt.scatter(X_test[:,7],S_te, label='S-learner',color='#1E90FF') \n",
    "plt.xlabel('$x_7$')\n",
    "plt.ylabel('CATE')\n",
    "#plt.legend()\n",
    "plt.title('Occupations')\n",
    "\n",
    "#8\n",
    "plt.subplot2grid((5,2), (3,1))\n",
    "plt.axhline(naive_te, color = 'black', linestyle = '--', label = 'Naive Estimator')\n",
    "plt.scatter(X_test[:,8],T_te, label='T-learner',color='#FFA500') \n",
    "plt.scatter(X_test[:,8],X_te, label='X-learner',color='#D6D4D7')\n",
    "plt.scatter(X_test[:,8],S_te, label='S-learner',color='#1E90FF') \n",
    "plt.xlabel('$x_8$')\n",
    "plt.ylabel('CATE')\n",
    "#plt.legend()\n",
    "plt.title('Industries')\n",
    "\n",
    "\n",
    "\n",
    "plt.gca().yaxis.set_minor_formatter(NullFormatter())\n",
    "plt.subplots_adjust(top=0.92, bottom=0.08, left=0.20, right=0.95, hspace=0.7,\n",
    "                    wspace=0.35)\n",
    "plt.legend(bbox_to_anchor=(2,5), loc=\"upper right\")\n",
    "plt.savefig('CATEvsCovs_vert_v2.pdf')\n",
    "plt.show()\n",
    "\n",
    "\n",
    "\n",
    "\n"
   ]
  },
  {
   "cell_type": "code",
   "execution_count": null,
   "id": "20f8be15",
   "metadata": {
    "scrolled": true
   },
   "outputs": [],
   "source": [
    "## same chart than above but for the presentation\n",
    "from matplotlib.ticker import NullFormatter, FixedLocator\n",
    "plt.figure(figsize=(10, 5))\n",
    "\n",
    "#1\n",
    "plt.subplot2grid((2,3), (0,0))\n",
    "plt.axhline(naive_te, color = 'black', linestyle = '--', label = 'Naive Estimator')\n",
    "plt.scatter(X_test[:,0],T_te, label='T-learner',color='#FFA500') \n",
    "plt.scatter(X_test[:,0],X_te, label='X-learner',color='#D6D4D7') \n",
    "plt.scatter(X_test[:,0],S_te, label='S-learner',color='#1E90FF')\n",
    "plt.xlabel('$x_0$')\n",
    "plt.ylabel('CATE')\n",
    "#plt.legend() ##check this here and in the cates one\n",
    "plt.title('Experience')\n",
    "\n",
    "\n",
    "#3\n",
    "plt.subplot2grid((2,3), (0,2))\n",
    "plt.axhline(naive_te, color = 'black', linestyle = '--', label = 'Naive Estimator')\n",
    "plt.scatter(X_test[:,1],T_te, label='T-learner',color='#FFA500') \n",
    "plt.scatter(X_test[:,1],X_te, label='X-learner',color='#D6D4D7') \n",
    "plt.scatter(X_test[:,1],S_te, label='S-learner',color='#1E90FF') \n",
    "plt.xlabel('$x_1$')\n",
    "plt.ylabel('CATE')\n",
    "#plt.legend()\n",
    "plt.title('Education Level')\n",
    "\n",
    "#5\n",
    "plt.subplot2grid((2,3), (0,1))\n",
    "plt.axhline(naive_te, color = 'black', linestyle = '--', label = 'Naive Estimator')\n",
    "plt.scatter(X_test[:,5],T_te, label='T-learner',color='#FFA500') \n",
    "plt.scatter(X_test[:,5],X_te, label='X-learner',color='#D6D4D7') \n",
    "plt.scatter(X_test[:,5],S_te, label='S-learner',color='#1E90FF') \n",
    "plt.xlabel('$x_5$')\n",
    "plt.ylabel('CATE')\n",
    "#plt.legend()\n",
    "plt.title('Health Limitations')\n",
    "\n",
    "\n",
    "#6\n",
    "plt.subplot2grid((2,3), (1,0))\n",
    "plt.axhline(naive_te, color = 'black', linestyle = '--', label = 'Naive Estimator')\n",
    "plt.scatter(X_test[:,6],T_te, label='T-learner',color='#FFA500') \n",
    "plt.scatter(X_test[:,6],X_te, label='X-learner',color='#D6D4D7') \n",
    "plt.scatter(X_test[:,6],S_te, label='S-learner',color='#1E90FF') \n",
    "plt.xlabel('$x_6$')\n",
    "plt.ylabel('CATE')\n",
    "#plt.legend()\n",
    "plt.title('Firm Size')\n",
    "\n",
    "\n",
    "#7\n",
    "plt.subplot2grid((2,3), (1,1))\n",
    "plt.axhline(naive_te, color = 'black', linestyle = '--', label = 'Naive Estimator')\n",
    "plt.scatter(X_test[:,7],T_te, label='T-learner',color='#FFA500') \n",
    "plt.scatter(X_test[:,7],X_te, label='X-learner',color='#D6D4D7') \n",
    "plt.scatter(X_test[:,7],S_te, label='S-learner',color='#1E90FF') \n",
    "plt.xlabel('$x_7$')\n",
    "plt.ylabel('CATE')\n",
    "#plt.legend()\n",
    "plt.title('Occupations')\n",
    "\n",
    "#8\n",
    "plt.subplot2grid((2,3), (1,2))\n",
    "plt.axhline(naive_te, color = 'black', linestyle = '--', label = 'Naive Estimator')\n",
    "plt.scatter(X_test[:,8],T_te, label='T-learner',color='#FFA500') \n",
    "plt.scatter(X_test[:,8],X_te, label='X-learner',color='#D6D4D7')\n",
    "plt.scatter(X_test[:,8],S_te, label='S-learner',color='#1E90FF') \n",
    "plt.xlabel('$x_8$')\n",
    "plt.ylabel('CATE')\n",
    "#plt.legend()\n",
    "plt.title('Industries')\n",
    "\n",
    "\n",
    "\n",
    "plt.gca().yaxis.set_minor_formatter(NullFormatter())\n",
    "plt.subplots_adjust(top=0.92, bottom=0.08, left=0.10, right=0.95, hspace=0.7,\n",
    "                    wspace=0.45)\n",
    "plt.legend(bbox_to_anchor=(2,2.7), loc=\"upper right\")\n",
    "plt.savefig('CATEvsCovs_hor_v2.pdf')\n",
    "plt.show()"
   ]
  },
  {
   "cell_type": "code",
   "execution_count": null,
   "id": "1825b992",
   "metadata": {},
   "outputs": [],
   "source": []
  },
  {
   "cell_type": "markdown",
   "id": "b66cebac",
   "metadata": {},
   "source": [
    "## CAUSAL FOREST (TO SELECT FEATURE IMPORTANCE) "
   ]
  },
  {
   "cell_type": "code",
   "execution_count": null,
   "id": "75ded433",
   "metadata": {},
   "outputs": [],
   "source": [
    "from econml.grf import CausalForest, CausalIVForest, RegressionForest\n",
    "from econml.dml import CausalForestDML\n",
    "import scipy.special\n",
    "import matplotlib.pyplot as plt\n",
    "from sklearn.tree import plot_tree"
   ]
  },
  {
   "cell_type": "code",
   "execution_count": null,
   "id": "3728060a",
   "metadata": {},
   "outputs": [],
   "source": [
    "df"
   ]
  },
  {
   "cell_type": "code",
   "execution_count": null,
   "id": "11b9f5cb",
   "metadata": {},
   "outputs": [],
   "source": [
    "np.random.seed(123)\n",
    "train,test = train_test_split(df, test_size=0.3)\n",
    "print(train.shape, test.shape)\n",
    "\n",
    "Y = train[\"lhw\"].values\n",
    "T = train[\"Dunion\"].values\n",
    "X = train[['expr','myedu','mediumskill_cat','healthlim_cat','sex_cat','private_cat','size_cat','occup_cat','industry_cat']].values\n",
    "X_test = test[['expr','myedu','mediumskill_cat','healthlim_cat','sex_cat','private_cat','size_cat','occup_cat','industry_cat']].values\n",
    "Y_test = test[\"lhw\"].values\n",
    "true_te = lambda X: np.hstack([(X[:, [0]]>0) * X[:, [0]],\n",
    "                               np.ones((X.shape[0], 1 - 1))*np.arange(1, 1).reshape(1, -1)])\n"
   ]
  },
  {
   "cell_type": "code",
   "execution_count": null,
   "id": "929eb0fa",
   "metadata": {},
   "outputs": [],
   "source": [
    "est = CausalForest(criterion='het', n_estimators=400, min_samples_leaf=5, max_depth=None,\n",
    "                   min_var_fraction_leaf=None, min_var_leaf_on_val=True,\n",
    "                   min_impurity_decrease = 0.0, max_samples=0.45, min_balancedness_tol=.45,\n",
    "                   warm_start=False, inference=True, fit_intercept=True, subforest_size=4,\n",
    "                   honest=True, verbose=0, n_jobs=-1, random_state=1235)"
   ]
  },
  {
   "cell_type": "code",
   "execution_count": null,
   "id": "1463154b",
   "metadata": {},
   "outputs": [],
   "source": [
    "est.fit(X,T, Y)"
   ]
  },
  {
   "cell_type": "code",
   "execution_count": null,
   "id": "b5a2cfe6",
   "metadata": {},
   "outputs": [],
   "source": [
    "plt.figure(figsize=(20, 10))\n",
    "plot_tree(est[0], impurity=True, max_depth=3)\n",
    "plt.savefig('CF_tree_v2.pdf')\n",
    "plt.show()"
   ]
  },
  {
   "cell_type": "code",
   "execution_count": null,
   "id": "4cc65915",
   "metadata": {},
   "outputs": [],
   "source": [
    "plt.figure(figsize=(15,5))\n",
    "plt.plot(est.feature_importances(max_depth=4, depth_decay_exponent=2.0))\n",
    "plt.savefig('feature_importance_v2.pdf')\n",
    "plt.show()"
   ]
  },
  {
   "cell_type": "code",
   "execution_count": null,
   "id": "6388e143",
   "metadata": {},
   "outputs": [],
   "source": [
    "## individual models"
   ]
  },
  {
   "cell_type": "code",
   "execution_count": null,
   "id": "d39f055d",
   "metadata": {},
   "outputs": [],
   "source": [
    "np.random.seed(123)\n",
    "train,test = train_test_split(df, test_size=0.3)\n",
    "print(train.shape, test.shape)\n",
    "\n",
    "Y = train[\"lhw\"].values\n",
    "T = train[\"Dunion\"].values\n",
    "X8 = train[[\"industry_cat\"]].values\n",
    "X8_test = test[[\"industry_cat\"]].values\n",
    "Y_test = test[\"lhw\"].values\n",
    "true_te = lambda X: np.hstack([(X[:, [0]]>0) * X[:, [0]],\n",
    "                               np.ones((X.shape[0], 1 - 1))*np.arange(1, 1).reshape(1, -1)])"
   ]
  },
  {
   "cell_type": "code",
   "execution_count": null,
   "id": "ad815d76",
   "metadata": {},
   "outputs": [],
   "source": [
    "# Instantiate S learner\n",
    "overall_model = model_y\n",
    "S_learner = SLearner(overall_model=overall_model)\n",
    "# Train S_learner\n",
    "S_learner.fit(Y, T, X=X8)\n",
    "# Estimate treatment effects on test data\n",
    "S_te_8 = S_learner.effect(X8_test) #CATE"
   ]
  },
  {
   "cell_type": "code",
   "execution_count": null,
   "id": "844f54ff",
   "metadata": {},
   "outputs": [],
   "source": [
    "ateS = np.mean(S_te_8)\n",
    "ateS"
   ]
  },
  {
   "cell_type": "code",
   "execution_count": null,
   "id": "87c2c6ae",
   "metadata": {},
   "outputs": [],
   "source": [
    "#chart\n",
    "#plt.figure(figsize=(8, 5))\n",
    "#plt.axhline(baseline[0], color = 'r', linestyle = '-', label = 'ATE')\n",
    "#plt.scatter(X9_test[:,0],S_te_9, label='S-learner',color='#1E90FF') ##CHECK THIS\n",
    "#plt.xlabel('$x_0$')\n",
    "#plt.ylabel('CATE')\n",
    "#plt.legend()\n",
    "#plt.show()"
   ]
  },
  {
   "cell_type": "code",
   "execution_count": null,
   "id": "d4d77a82",
   "metadata": {},
   "outputs": [],
   "source": [
    "\n",
    "np.random.seed(123)\n",
    "train,test = train_test_split(df, test_size=0.3)\n",
    "print(train.shape, test.shape)\n",
    "\n",
    "Y = train[\"lhw\"].values\n",
    "T = train[\"Dunion\"].values\n",
    "X0 = train[[\"expr\"]].values\n",
    "X0_test = test[[\"expr\"]].values\n",
    "Y_test = test[\"lhw\"].values\n",
    "true_te = lambda X: np.hstack([(X[:, [0]]>0) * X[:, [0]],\n",
    "                               np.ones((X.shape[0], 1 - 1))*np.arange(1, 1).reshape(1, -1)])\n",
    "\n"
   ]
  },
  {
   "cell_type": "code",
   "execution_count": null,
   "id": "a99a81ca",
   "metadata": {},
   "outputs": [],
   "source": [
    "# Instantiate S learner\n",
    "overall_model = model_y\n",
    "S_learner = SLearner(overall_model=overall_model)\n",
    "# Train S_learner\n",
    "S_learner.fit(Y, T, X=X0)\n",
    "# Estimate treatment effects on test data\n",
    "S_te_0 = S_learner.effect(X0_test) #CATE"
   ]
  },
  {
   "cell_type": "code",
   "execution_count": null,
   "id": "a3d13dd7",
   "metadata": {},
   "outputs": [],
   "source": [
    "ateS = np.mean(S_te_0)\n",
    "ateS"
   ]
  },
  {
   "cell_type": "code",
   "execution_count": null,
   "id": "a3677e4d",
   "metadata": {},
   "outputs": [],
   "source": [
    "##plt.figure(figsize=(8, 5))\n",
    "##plt.axhline(baseline[0], color = 'r', linestyle = '-', label = 'ATE')\n",
    "##plt.scatter(X0_test[:,0],S_te_0, label='S-learner',color='#1E90FF') ##CHECK THIS\n",
    "##plt.xlabel('$x_0$')\n",
    "##plt.ylabel('CATE')\n",
    "##plt.legend()\n",
    "##plt.show()"
   ]
  },
  {
   "cell_type": "code",
   "execution_count": null,
   "id": "d634bea2",
   "metadata": {},
   "outputs": [],
   "source": [
    "\n",
    "np.random.seed(123)\n",
    "train,test = train_test_split(df, test_size=0.3)\n",
    "print(train.shape, test.shape)\n",
    "\n",
    "Y = train[\"lhw\"].values\n",
    "T = train[\"Dunion\"].values\n",
    "X5 = train[[\"healthlim_cat\"]].values\n",
    "X5_test = test[[\"healthlim_cat\"]].values\n",
    "Y_test = test[\"lhw\"].values\n",
    "true_te = lambda X: np.hstack([(X[:, [0]]>0) * X[:, [0]],\n",
    "                               np.ones((X.shape[0], 1 - 1))*np.arange(1, 1).reshape(1, -1)])\n"
   ]
  },
  {
   "cell_type": "code",
   "execution_count": null,
   "id": "aeea9e5c",
   "metadata": {},
   "outputs": [],
   "source": [
    "# Instantiate S learner\n",
    "overall_model = model_y\n",
    "S_learner = SLearner(overall_model=overall_model)\n",
    "# Train S_learner\n",
    "S_learner.fit(Y, T, X=X5)\n",
    "# Estimate treatment effects on test data\n",
    "S_te_5 = S_learner.effect(X5_test) #CATE"
   ]
  },
  {
   "cell_type": "code",
   "execution_count": null,
   "id": "26aedde0",
   "metadata": {},
   "outputs": [],
   "source": [
    "ateS = np.mean(S_te_5)\n",
    "ateS"
   ]
  },
  {
   "cell_type": "code",
   "execution_count": null,
   "id": "c153edc1",
   "metadata": {},
   "outputs": [],
   "source": [
    "##plt.figure(figsize=(8, 5))\n",
    "##plt.axhline(baseline[0], color = 'r', linestyle = '-', label = 'ATE')\n",
    "##plt.scatter(X1_test[:,0],S_te_1, label='S-learner',color='#1E90FF') ##CHECK THIS\n",
    "##plt.xlabel('$x_0$')\n",
    "##plt.ylabel('CATE')\n",
    "##plt.legend()\n",
    "##plt.show()"
   ]
  },
  {
   "cell_type": "code",
   "execution_count": null,
   "id": "2a5d9ec5",
   "metadata": {},
   "outputs": [],
   "source": [
    "np.random.seed(123)\n",
    "train,test = train_test_split(df, test_size=0.3)\n",
    "print(train.shape, test.shape)\n",
    "\n",
    "Y = train[\"lhw\"].values\n",
    "T = train[\"Dunion\"].values\n",
    "X7 = train[[\"occup_cat\"]].values\n",
    "X7_test = test[[\"occup_cat\"]].values\n",
    "Y_test = test[\"lhw\"].values\n",
    "true_te = lambda X: np.hstack([(X[:, [0]]>0) * X[:, [0]],\n",
    "                               np.ones((X.shape[0], 1 - 1))*np.arange(1, 1).reshape(1, -1)])"
   ]
  },
  {
   "cell_type": "code",
   "execution_count": null,
   "id": "ab87779c",
   "metadata": {},
   "outputs": [],
   "source": [
    "# Instantiate S learner\n",
    "overall_model = model_y\n",
    "S_learner = SLearner(overall_model=overall_model)\n",
    "# Train S_learner\n",
    "S_learner.fit(Y, T, X=X7)\n",
    "# Estimate treatment effects on test data\n",
    "S_te_7 = S_learner.effect(X7_test) #CATE"
   ]
  },
  {
   "cell_type": "code",
   "execution_count": null,
   "id": "0a8c8cf6",
   "metadata": {},
   "outputs": [],
   "source": [
    "ateS = np.mean(S_te_7)\n",
    "ateS"
   ]
  },
  {
   "cell_type": "code",
   "execution_count": null,
   "id": "de83f36c",
   "metadata": {},
   "outputs": [],
   "source": [
    "##plt.figure(figsize=(8, 5))\n",
    "##plt.axhline(baseline[0], color = 'r', linestyle = '-', label = 'ATE')\n",
    "##plt.scatter(X8_test[:,0],S_te_8, label='S-learner',color='#1E90FF') ##CHECK THIS\n",
    "##plt.xlabel('$x_0$')\n",
    "##plt.ylabel('CATE')\n",
    "##plt.legend()\n",
    "##plt.show()"
   ]
  },
  {
   "cell_type": "code",
   "execution_count": null,
   "id": "08fa3644",
   "metadata": {},
   "outputs": [],
   "source": [
    "np.random.seed(123)\n",
    "train,test = train_test_split(df, test_size=0.3)\n",
    "print(train.shape, test.shape)\n",
    "\n",
    "Y = train[\"lhw\"].values\n",
    "T = train[\"Dunion\"].values\n",
    "X6 = train[[\"size_cat\"]].values\n",
    "X6_test = test[[\"size_cat\"]].values\n",
    "Y_test = test[\"lhw\"].values\n",
    "true_te = lambda X: np.hstack([(X[:, [0]]>0) * X[:, [0]],\n",
    "                               np.ones((X.shape[0], 1 - 1))*np.arange(1, 1).reshape(1, -1)])"
   ]
  },
  {
   "cell_type": "code",
   "execution_count": null,
   "id": "3e3aa0af",
   "metadata": {},
   "outputs": [],
   "source": [
    "# Instantiate S learner\n",
    "overall_model = model_y\n",
    "S_learner = SLearner(overall_model=overall_model)\n",
    "# Train S_learner\n",
    "S_learner.fit(Y, T, X=X6)\n",
    "# Estimate treatment effects on test data\n",
    "S_te_6 = S_learner.effect(X6_test) #CATE"
   ]
  },
  {
   "cell_type": "code",
   "execution_count": null,
   "id": "e8c887b8",
   "metadata": {},
   "outputs": [],
   "source": [
    "ateS = np.mean(S_te_6)\n",
    "ateS"
   ]
  },
  {
   "cell_type": "code",
   "execution_count": null,
   "id": "0ba382cf",
   "metadata": {},
   "outputs": [],
   "source": [
    "##plt.figure(figsize=(8, 5))\n",
    "##plt.axhline(baseline[0], color = 'r', linestyle = '-', label = 'ATE')\n",
    "##plt.scatter(X7_test[:,0],S_te_7, label='S-learner',color='#1E90FF') ##CHECK THIS\n",
    "##plt.xlabel('$x_0$')\n",
    "##plt.ylabel('CATE')\n",
    "##plt.legend()\n",
    "##plt.show()"
   ]
  },
  {
   "cell_type": "code",
   "execution_count": null,
   "id": "0c0c2688",
   "metadata": {},
   "outputs": [],
   "source": [
    "np.random.seed(123)\n",
    "train,test = train_test_split(df, test_size=0.3)\n",
    "print(train.shape, test.shape)\n",
    "\n",
    "Y = train[\"lhw\"].values\n",
    "T = train[\"Dunion\"].values\n",
    "X4 = train[[\"sex_cat\"]].values\n",
    "X4_test = test[[\"sex_cat\"]].values\n",
    "Y_test = test[\"lhw\"].values\n",
    "true_te = lambda X: np.hstack([(X[:, [0]]>0) * X[:, [0]],\n",
    "                               np.ones((X.shape[0], 1 - 1))*np.arange(1, 1).reshape(1, -1)])"
   ]
  },
  {
   "cell_type": "code",
   "execution_count": null,
   "id": "48487052",
   "metadata": {},
   "outputs": [],
   "source": [
    "# Instantiate S learner\n",
    "overall_model = model_y\n",
    "S_learner = SLearner(overall_model=overall_model)\n",
    "# Train S_learner\n",
    "S_learner.fit(Y, T, X=X4)\n",
    "# Estimate treatment effects on test data\n",
    "S_te_4 = S_learner.effect(X4_test) #CATE"
   ]
  },
  {
   "cell_type": "code",
   "execution_count": null,
   "id": "d3d47954",
   "metadata": {},
   "outputs": [],
   "source": [
    "ateS = np.mean(S_te_4)\n",
    "ateS"
   ]
  },
  {
   "cell_type": "code",
   "execution_count": null,
   "id": "a3106d7c",
   "metadata": {},
   "outputs": [],
   "source": [
    "##plt.figure(figsize=(8, 5))\n",
    "##plt.axhline(baseline[0], color = 'r', linestyle = '-', label = 'ATE')\n",
    "##plt.scatter(X5_test[:,0],S_te_5, label='S-learner',color='#1E90FF') ##CHECK THIS\n",
    "##plt.xlabel('$x_0$')\n",
    "##plt.ylabel('CATE')\n",
    "##plt.legend()\n",
    "##plt.show()"
   ]
  },
  {
   "cell_type": "code",
   "execution_count": null,
   "id": "7c2c75f6",
   "metadata": {},
   "outputs": [],
   "source": [
    "from matplotlib import cm\n",
    "from matplotlib.ticker import AutoMinorLocator\n",
    "from matplotlib.image import NonUniformImage\n",
    "from matplotlib.ticker import NullFormatter  \n",
    "\n",
    "\n",
    "plt.figure(figsize=(10, 10))\n",
    "\n",
    "#1\n",
    "plt.subplot2grid((3,2), (0,0))\n",
    "plt.axhline(baseline[0], color = 'r', linestyle = '--', label = 'ATE')\n",
    "plt.scatter(X8_test[:,0],S_te_8, label='S-learner',color='#1E90FF') ##CHECK THIS\n",
    "plt.xlabel('$x_8$')\n",
    "plt.ylabel('CATE')\n",
    "##plt.legend()\n",
    "plt.title('Industries')\n",
    "\n",
    "#2\n",
    "plt.subplot2grid((3,2), (0,1))\n",
    "plt.axhline(baseline[0], color = 'r', linestyle = '--', label = 'ATE')\n",
    "plt.scatter(X0_test[:,0],S_te_0, label='S-learner',color='#1E90FF') ##CHECK THIS\n",
    "plt.xlabel('$x_0$')\n",
    "plt.ylabel('CATE')\n",
    "##plt.legend()\n",
    "plt.title('Experience')\n",
    "\n",
    "#3\n",
    "plt.subplot2grid((3,2), (1,0))\n",
    "plt.axhline(baseline[0], color = 'r', linestyle = '--', label = 'ATE')\n",
    "plt.scatter(X5_test[:,0],S_te_5, label='S-learner',color='#1E90FF') ##CHECK THIS\n",
    "plt.xlabel('$x_5$')\n",
    "plt.ylabel('CATE')\n",
    "##plt.legend()\n",
    "plt.title('Health Limitations')\n",
    "\n",
    "\n",
    "#4\n",
    "plt.subplot2grid((3,2), (1,1))\n",
    "plt.axhline(baseline[0], color = 'r', linestyle = '--', label = 'ATE')\n",
    "plt.scatter(X7_test[:,0],S_te_7, label='S-learner',color='#1E90FF') ##CHECK THIS\n",
    "plt.xlabel('$x_7$')\n",
    "plt.ylabel('CATE')\n",
    "##plt.legend()\n",
    "plt.title('Occupations')\n",
    "\n",
    "#5\n",
    "plt.subplot2grid((3,2), (2,0))\n",
    "plt.axhline(baseline[0], color = 'r', linestyle = '--', label = 'ATE')\n",
    "plt.scatter(X6_test[:,0],S_te_6, label='S-learner',color='#1E90FF') ##CHECK THIS\n",
    "plt.xlabel('$x_6$')\n",
    "plt.ylabel('CATE')\n",
    "##plt.legend()\n",
    "plt.title('Firm Size')\n",
    "\n",
    "#6\n",
    "plt.subplot2grid((3,2), (2,1))\n",
    "plt.axhline(baseline[0], color = 'r', linestyle = '--', label = 'ATE')\n",
    "plt.scatter(X4_test[:,0],S_te_4, label='S-learner',color='#1E90FF') ##CHECK THIS\n",
    "plt.xlabel('$x_4$')\n",
    "plt.ylabel('CATE')\n",
    "plt.legend()\n",
    "plt.title('Gender')\n",
    "\n",
    "\n",
    "plt.gca().yaxis.set_minor_formatter(NullFormatter())\n",
    "plt.subplots_adjust(top=0.92, bottom=0.08, left=0.20, right=0.95, hspace=0.65,\n",
    "                    wspace=0.35)\n",
    "plt.legend(bbox_to_anchor=(2,4), loc=\"upper right\")\n",
    "plt.savefig('het_cates_v2.pdf')\n",
    "plt.show()"
   ]
  }
 ],
 "metadata": {
  "kernelspec": {
   "display_name": "Python 3 (ipykernel)",
   "language": "python",
   "name": "python3"
  },
  "language_info": {
   "codemirror_mode": {
    "name": "ipython",
    "version": 3
   },
   "file_extension": ".py",
   "mimetype": "text/x-python",
   "name": "python",
   "nbconvert_exporter": "python",
   "pygments_lexer": "ipython3",
   "version": "3.9.13"
  }
 },
 "nbformat": 4,
 "nbformat_minor": 5
}
